{
 "cells": [
  {
   "cell_type": "code",
   "execution_count": 1,
   "metadata": {},
   "outputs": [],
   "source": [
    "import pandas as pd\n",
    "import numpy as np\n",
    "import networkx as nx\n",
    "\n",
    "from functions import get_graph, get_reciprocity_df"
   ]
  },
  {
   "cell_type": "code",
   "execution_count": 2,
   "metadata": {},
   "outputs": [
    {
     "name": "stdout",
     "output_type": "stream",
     "text": [
      "alabama: 0.20161290322580644\n",
      "georgia: 0.23346303501945526\n",
      "ucla: 0.2716049382716049\n",
      "usc: 0.06324110671936758\n"
     ]
    }
   ],
   "source": [
    "colleges = ['alabama', 'georgia', 'ucla', 'usc']\n",
    "\n",
    "for col in colleges:\n",
    "    print(f'{col}: {nx.reciprocity(get_graph(col))}')"
   ]
  },
  {
   "cell_type": "code",
   "execution_count": 3,
   "metadata": {},
   "outputs": [
    {
     "data": {
      "text/html": [
       "<div>\n",
       "<style scoped>\n",
       "    .dataframe tbody tr th:only-of-type {\n",
       "        vertical-align: middle;\n",
       "    }\n",
       "\n",
       "    .dataframe tbody tr th {\n",
       "        vertical-align: top;\n",
       "    }\n",
       "\n",
       "    .dataframe thead th {\n",
       "        text-align: right;\n",
       "    }\n",
       "</style>\n",
       "<table border=\"1\" class=\"dataframe\">\n",
       "  <thead>\n",
       "    <tr style=\"text-align: right;\">\n",
       "      <th></th>\n",
       "      <th>colleges</th>\n",
       "      <th>rec</th>\n",
       "      <th>w_rec</th>\n",
       "      <th>offer_rank</th>\n",
       "      <th>commit_rank</th>\n",
       "    </tr>\n",
       "  </thead>\n",
       "  <tbody>\n",
       "    <tr>\n",
       "      <th>0</th>\n",
       "      <td>alabama</td>\n",
       "      <td>0.201613</td>\n",
       "      <td>0.204852</td>\n",
       "      <td>0.935923</td>\n",
       "      <td>0.952676</td>\n",
       "    </tr>\n",
       "    <tr>\n",
       "      <th>1</th>\n",
       "      <td>georgia</td>\n",
       "      <td>0.232558</td>\n",
       "      <td>0.233321</td>\n",
       "      <td>0.926630</td>\n",
       "      <td>0.930070</td>\n",
       "    </tr>\n",
       "    <tr>\n",
       "      <th>2</th>\n",
       "      <td>ucla</td>\n",
       "      <td>0.271605</td>\n",
       "      <td>0.267071</td>\n",
       "      <td>0.907856</td>\n",
       "      <td>0.890364</td>\n",
       "    </tr>\n",
       "    <tr>\n",
       "      <th>3</th>\n",
       "      <td>usc</td>\n",
       "      <td>0.063241</td>\n",
       "      <td>0.063192</td>\n",
       "      <td>0.923787</td>\n",
       "      <td>0.923050</td>\n",
       "    </tr>\n",
       "  </tbody>\n",
       "</table>\n",
       "</div>"
      ],
      "text/plain": [
       "  colleges       rec     w_rec  offer_rank  commit_rank\n",
       "0  alabama  0.201613  0.204852    0.935923     0.952676\n",
       "1  georgia  0.232558  0.233321    0.926630     0.930070\n",
       "2     ucla  0.271605  0.267071    0.907856     0.890364\n",
       "3      usc  0.063241  0.063192    0.923787     0.923050"
      ]
     },
     "execution_count": 3,
     "metadata": {},
     "output_type": "execute_result"
    }
   ],
   "source": [
    "rec = get_reciprocity_df(colleges)\n",
    "rec"
   ]
  },
  {
   "cell_type": "code",
   "execution_count": 4,
   "metadata": {},
   "outputs": [],
   "source": [
    "rec.to_csv('data/reciprocity.csv')"
   ]
  }
 ],
 "metadata": {
  "kernelspec": {
   "display_name": "Python 3.8.5 ('base')",
   "language": "python",
   "name": "python3"
  },
  "language_info": {
   "codemirror_mode": {
    "name": "ipython",
    "version": 3
   },
   "file_extension": ".py",
   "mimetype": "text/x-python",
   "name": "python",
   "nbconvert_exporter": "python",
   "pygments_lexer": "ipython3",
   "version": "3.8.5"
  },
  "orig_nbformat": 4,
  "vscode": {
   "interpreter": {
    "hash": "e360b0d71471daefc40b5828b6218e60f12c2f9a62937e4a9d2acf913a3e2154"
   }
  }
 },
 "nbformat": 4,
 "nbformat_minor": 2
}
