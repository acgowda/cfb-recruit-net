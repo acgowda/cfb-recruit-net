{
 "cells": [
  {
   "cell_type": "code",
   "execution_count": 1,
   "metadata": {},
   "outputs": [],
   "source": [
    "import pandas as pd\n",
    "import numpy as np"
   ]
  },
  {
   "cell_type": "code",
   "execution_count": 73,
   "metadata": {},
   "outputs": [],
   "source": [
    "def getWeightedReciprocity(college):\n",
    "    offers = pd.read_csv(f\"data/offers/{college}_offers.csv\")\n",
    "    commits = pd.read_csv(f\"data/commits/{college}_commits.csv\")\n",
    "\n",
    "    return np.sum(commits['ranking']) / np.sum(offers['ranking']) "
   ]
  },
  {
   "cell_type": "code",
   "execution_count": 74,
   "metadata": {},
   "outputs": [],
   "source": [
    "def getReciprocity(college):\n",
    "    offers = pd.read_csv(f\"data/offers/{college}_offers.csv\")\n",
    "    commits = pd.read_csv(f\"data/commits/{college}_commits.csv\")\n",
    "\n",
    "    return len(commits['ranking']) / len(offers['ranking']) "
   ]
  },
  {
   "cell_type": "code",
   "execution_count": 75,
   "metadata": {},
   "outputs": [],
   "source": [
    "def getAvgRank(college):\n",
    "    offers = pd.read_csv(f\"data/offers/{college}_offers.csv\")\n",
    "    commits = pd.read_csv(f\"data/commits/{college}_commits.csv\")\n",
    "\n",
    "    return np.mean(offers['ranking']), np.mean(commits['ranking'])"
   ]
  },
  {
   "cell_type": "code",
   "execution_count": 76,
   "metadata": {},
   "outputs": [
    {
     "name": "stdout",
     "output_type": "stream",
     "text": [
      "alabama: 0.11555555555555555, 0.11411436303248323, (0.9276035555555557, 0.9160346153846155)\n",
      "georgia: 0.13157894736842105, 0.13206738053416522, (0.9266302631578944, 0.93007)\n",
      "ucla: 0.15714285714285714, 0.15411511269097197, (0.9078557142857147, 0.8903636363636364)\n",
      "usc: 0.03614457831325301, 0.03262702709389969, (0.9089465863453812, 0.8204888888888888)\n"
     ]
    }
   ],
   "source": [
    "colleges = ['alabama', 'georgia', 'ucla', 'usc']\n",
    "\n",
    "for col in colleges:\n",
    "    print(f'{col}: {getReciprocity(col)}, {getWeightedReciprocity(col)}, {getAvgRank(col)}')"
   ]
  },
  {
   "cell_type": "code",
   "execution_count": 17,
   "metadata": {},
   "outputs": [
    {
     "data": {
      "text/html": [
       "<div>\n",
       "<style scoped>\n",
       "    .dataframe tbody tr th:only-of-type {\n",
       "        vertical-align: middle;\n",
       "    }\n",
       "\n",
       "    .dataframe tbody tr th {\n",
       "        vertical-align: top;\n",
       "    }\n",
       "\n",
       "    .dataframe thead th {\n",
       "        text-align: right;\n",
       "    }\n",
       "</style>\n",
       "<table border=\"1\" class=\"dataframe\">\n",
       "  <thead>\n",
       "    <tr style=\"text-align: right;\">\n",
       "      <th></th>\n",
       "      <th>colleges</th>\n",
       "      <th>rec</th>\n",
       "      <th>w_rec</th>\n",
       "      <th>offer_rank</th>\n",
       "      <th>commit_rank</th>\n",
       "    </tr>\n",
       "  </thead>\n",
       "  <tbody>\n",
       "    <tr>\n",
       "      <th>0</th>\n",
       "      <td>alabama</td>\n",
       "      <td>0.115556</td>\n",
       "      <td>0.114114</td>\n",
       "      <td>0.927604</td>\n",
       "      <td>0.916035</td>\n",
       "    </tr>\n",
       "    <tr>\n",
       "      <th>1</th>\n",
       "      <td>georgia</td>\n",
       "      <td>0.131579</td>\n",
       "      <td>0.132067</td>\n",
       "      <td>0.926630</td>\n",
       "      <td>0.930070</td>\n",
       "    </tr>\n",
       "    <tr>\n",
       "      <th>2</th>\n",
       "      <td>ucla</td>\n",
       "      <td>0.157143</td>\n",
       "      <td>0.154115</td>\n",
       "      <td>0.907856</td>\n",
       "      <td>0.890364</td>\n",
       "    </tr>\n",
       "    <tr>\n",
       "      <th>3</th>\n",
       "      <td>usc</td>\n",
       "      <td>0.036145</td>\n",
       "      <td>0.032627</td>\n",
       "      <td>0.908947</td>\n",
       "      <td>0.820489</td>\n",
       "    </tr>\n",
       "  </tbody>\n",
       "</table>\n",
       "</div>"
      ],
      "text/plain": [
       "  colleges       rec     w_rec  offer_rank  commit_rank\n",
       "0  alabama  0.115556  0.114114    0.927604     0.916035\n",
       "1  georgia  0.131579  0.132067    0.926630     0.930070\n",
       "2     ucla  0.157143  0.154115    0.907856     0.890364\n",
       "3      usc  0.036145  0.032627    0.908947     0.820489"
      ]
     },
     "execution_count": 17,
     "metadata": {},
     "output_type": "execute_result"
    }
   ],
   "source": [
    "rec = pd.DataFrame(colleges, columns=['colleges'])\n",
    "rec['rec'] = rec.apply(lambda row : getReciprocity(row['colleges']), axis = 1)\n",
    "rec['w_rec'] = rec.apply(lambda row : getWeightedReciprocity(row['colleges']), axis = 1)\n",
    "rec['offer_rank'], rec['commit_rank']= zip(*rec.apply(lambda row : getAvgRank(row['colleges']), axis = 1))\n",
    "rec"
   ]
  },
  {
   "cell_type": "code",
   "execution_count": 77,
   "metadata": {},
   "outputs": [],
   "source": [
    "rec.to_csv('data/reciprocity.csv')"
   ]
  },
  {
   "cell_type": "code",
   "execution_count": 18,
   "metadata": {},
   "outputs": [],
   "source": [
    "import networkx as nx"
   ]
  },
  {
   "cell_type": "code",
   "execution_count": 50,
   "metadata": {},
   "outputs": [],
   "source": [
    "def getGraph(college):\n",
    "    offers = pd.read_csv(f\"data/offers/{college}_offers.csv\")\n",
    "    commits = pd.read_csv(f\"data/commits/{college}_commits.csv\")\n",
    "\n",
    "    offers['col'] = college\n",
    "    commits['col'] = college\n",
    "    \n",
    "    G_offer = nx.from_pandas_edgelist(offers, source = 'col', target = 'name', edge_attr='ranking', create_using = nx.DiGraph())\n",
    "    G_commit = nx.from_pandas_edgelist(commits, source = 'name', target = 'col', edge_attr='ranking',create_using = nx.DiGraph())\n",
    "\n",
    "    G = nx.compose(G_offer, G_commit)\n",
    "\n",
    "    return G"
   ]
  },
  {
   "cell_type": "code",
   "execution_count": 63,
   "metadata": {},
   "outputs": [],
   "source": [
    "ucla = getGraph('ucla')\n",
    "bama = getGraph('alabama')\n",
    "usc = getGraph('usc')\n",
    "geor = getGraph('georgia')"
   ]
  },
  {
   "cell_type": "code",
   "execution_count": 68,
   "metadata": {},
   "outputs": [
    {
     "data": {
      "text/plain": [
       "0.2716049382716049"
      ]
     },
     "execution_count": 68,
     "metadata": {},
     "output_type": "execute_result"
    }
   ],
   "source": [
    "{'ucla': nx.reciprocity(ucla)}"
   ]
  },
  {
   "cell_type": "code",
   "execution_count": 64,
   "metadata": {},
   "outputs": [
    {
     "data": {
      "text/plain": [
       "0.20717131474103587"
      ]
     },
     "execution_count": 64,
     "metadata": {},
     "output_type": "execute_result"
    }
   ],
   "source": [
    "nx.reciprocity(bama)"
   ]
  },
  {
   "cell_type": "code",
   "execution_count": 65,
   "metadata": {},
   "outputs": [
    {
     "data": {
      "text/plain": [
       "0.06976744186046512"
      ]
     },
     "execution_count": 65,
     "metadata": {},
     "output_type": "execute_result"
    }
   ],
   "source": [
    "nx.reciprocity(usc)"
   ]
  },
  {
   "cell_type": "code",
   "execution_count": 66,
   "metadata": {},
   "outputs": [
    {
     "data": {
      "text/plain": [
       "0.23346303501945526"
      ]
     },
     "execution_count": 66,
     "metadata": {},
     "output_type": "execute_result"
    }
   ],
   "source": [
    "nx.reciprocity(geor)"
   ]
  },
  {
   "cell_type": "code",
   "execution_count": 37,
   "metadata": {},
   "outputs": [],
   "source": [
    "college = 'ucla'\n",
    "offers = pd.read_csv(f\"data/offers/{college}_offers.csv\")\n",
    "commits = pd.read_csv(f\"data/commits/{college}_commits.csv\")"
   ]
  },
  {
   "cell_type": "code",
   "execution_count": 38,
   "metadata": {},
   "outputs": [
    {
     "data": {
      "text/plain": [
       "0.15714285714285714"
      ]
     },
     "execution_count": 38,
     "metadata": {},
     "output_type": "execute_result"
    }
   ],
   "source": [
    "len(commits['ranking']) / len(offers['ranking']) "
   ]
  }
 ],
 "metadata": {
  "kernelspec": {
   "display_name": "Python 3.8.5 ('base')",
   "language": "python",
   "name": "python3"
  },
  "language_info": {
   "codemirror_mode": {
    "name": "ipython",
    "version": 3
   },
   "file_extension": ".py",
   "mimetype": "text/x-python",
   "name": "python",
   "nbconvert_exporter": "python",
   "pygments_lexer": "ipython3",
   "version": "3.8.5"
  },
  "orig_nbformat": 4,
  "vscode": {
   "interpreter": {
    "hash": "e360b0d71471daefc40b5828b6218e60f12c2f9a62937e4a9d2acf913a3e2154"
   }
  }
 },
 "nbformat": 4,
 "nbformat_minor": 2
}
