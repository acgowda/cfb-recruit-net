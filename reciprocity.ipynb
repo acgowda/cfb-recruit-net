{
 "cells": [
  {
   "cell_type": "code",
   "execution_count": 1,
   "metadata": {},
   "outputs": [],
   "source": [
    "import pandas as pd\n",
    "import numpy as np\n",
    "import networkx as nx"
   ]
  },
  {
   "cell_type": "code",
   "execution_count": 2,
   "metadata": {},
   "outputs": [],
   "source": [
    "def getData(college):\n",
    "    offers = pd.read_csv(f\"data/offers/{college}_offers.csv\")\n",
    "    commits = pd.read_csv(f\"data/commits/{college}_commits.csv\")\n",
    "\n",
    "    offers = offers.loc[offers['ranking'] != 0]\n",
    "    commits = commits.loc[commits['ranking'] != 0]\n",
    "\n",
    "    return offers, commits"
   ]
  },
  {
   "cell_type": "code",
   "execution_count": 3,
   "metadata": {},
   "outputs": [],
   "source": [
    "def getWeightedReciprocity(college):\n",
    "    offers, commits = getData(college)\n",
    "\n",
    "    return 2 * np.sum(commits['ranking']) / (np.sum(commits['ranking']) + np.sum(offers['ranking'])) "
   ]
  },
  {
   "cell_type": "code",
   "execution_count": 4,
   "metadata": {},
   "outputs": [],
   "source": [
    "def getReciprocity(college):\n",
    "    offers, commits = getData(college)\n",
    "\n",
    "    return 2 * len(commits['ranking']) / (len(commits['ranking']) + len(offers['ranking'])) "
   ]
  },
  {
   "cell_type": "code",
   "execution_count": 5,
   "metadata": {},
   "outputs": [],
   "source": [
    "def getAvgRank(college):\n",
    "    offers, commits = getData(college)\n",
    "\n",
    "    return np.mean(offers['ranking']), np.mean(commits['ranking'])"
   ]
  },
  {
   "cell_type": "code",
   "execution_count": 6,
   "metadata": {},
   "outputs": [
    {
     "name": "stdout",
     "output_type": "stream",
     "text": [
      "alabama: 0.20161290322580644, 0.20485215309831903, (0.935922869955157, 0.9526760000000002)\n",
      "georgia: 0.23255813953488372, 0.23332070653223722, (0.9266302631578944, 0.93007)\n",
      "ucla: 0.2716049382716049, 0.2670706084623261, (0.9078557142857147, 0.8903636363636364)\n",
      "usc: 0.06324110671936758, 0.06319227802069298, (0.9237865306122445, 0.9230499999999999)\n"
     ]
    }
   ],
   "source": [
    "colleges = ['alabama', 'georgia', 'ucla', 'usc']\n",
    "\n",
    "for col in colleges:\n",
    "    print(f'{col}: {getReciprocity(col)}, {getWeightedReciprocity(col)}, {getAvgRank(col)}')"
   ]
  },
  {
   "cell_type": "code",
   "execution_count": 7,
   "metadata": {},
   "outputs": [
    {
     "data": {
      "text/html": [
       "<div>\n",
       "<style scoped>\n",
       "    .dataframe tbody tr th:only-of-type {\n",
       "        vertical-align: middle;\n",
       "    }\n",
       "\n",
       "    .dataframe tbody tr th {\n",
       "        vertical-align: top;\n",
       "    }\n",
       "\n",
       "    .dataframe thead th {\n",
       "        text-align: right;\n",
       "    }\n",
       "</style>\n",
       "<table border=\"1\" class=\"dataframe\">\n",
       "  <thead>\n",
       "    <tr style=\"text-align: right;\">\n",
       "      <th></th>\n",
       "      <th>colleges</th>\n",
       "      <th>rec</th>\n",
       "      <th>w_rec</th>\n",
       "      <th>offer_rank</th>\n",
       "      <th>commit_rank</th>\n",
       "    </tr>\n",
       "  </thead>\n",
       "  <tbody>\n",
       "    <tr>\n",
       "      <th>0</th>\n",
       "      <td>alabama</td>\n",
       "      <td>0.201613</td>\n",
       "      <td>0.204852</td>\n",
       "      <td>0.935923</td>\n",
       "      <td>0.952676</td>\n",
       "    </tr>\n",
       "    <tr>\n",
       "      <th>1</th>\n",
       "      <td>georgia</td>\n",
       "      <td>0.232558</td>\n",
       "      <td>0.233321</td>\n",
       "      <td>0.926630</td>\n",
       "      <td>0.930070</td>\n",
       "    </tr>\n",
       "    <tr>\n",
       "      <th>2</th>\n",
       "      <td>ucla</td>\n",
       "      <td>0.271605</td>\n",
       "      <td>0.267071</td>\n",
       "      <td>0.907856</td>\n",
       "      <td>0.890364</td>\n",
       "    </tr>\n",
       "    <tr>\n",
       "      <th>3</th>\n",
       "      <td>usc</td>\n",
       "      <td>0.063241</td>\n",
       "      <td>0.063192</td>\n",
       "      <td>0.923787</td>\n",
       "      <td>0.923050</td>\n",
       "    </tr>\n",
       "  </tbody>\n",
       "</table>\n",
       "</div>"
      ],
      "text/plain": [
       "  colleges       rec     w_rec  offer_rank  commit_rank\n",
       "0  alabama  0.201613  0.204852    0.935923     0.952676\n",
       "1  georgia  0.232558  0.233321    0.926630     0.930070\n",
       "2     ucla  0.271605  0.267071    0.907856     0.890364\n",
       "3      usc  0.063241  0.063192    0.923787     0.923050"
      ]
     },
     "execution_count": 7,
     "metadata": {},
     "output_type": "execute_result"
    }
   ],
   "source": [
    "rec = pd.DataFrame(colleges, columns=['colleges'])\n",
    "rec['rec'] = rec.apply(lambda row : getReciprocity(row['colleges']), axis = 1)\n",
    "rec['w_rec'] = rec.apply(lambda row : getWeightedReciprocity(row['colleges']), axis = 1)\n",
    "rec['offer_rank'], rec['commit_rank']= zip(*rec.apply(lambda row : getAvgRank(row['colleges']), axis = 1))\n",
    "rec"
   ]
  },
  {
   "cell_type": "code",
   "execution_count": 8,
   "metadata": {},
   "outputs": [],
   "source": [
    "rec.to_csv('data/reciprocity.csv')"
   ]
  },
  {
   "cell_type": "code",
   "execution_count": 9,
   "metadata": {},
   "outputs": [],
   "source": [
    "def getGraph(college):\n",
    "    offers = pd.read_csv(f\"data/offers/{college}_offers.csv\")\n",
    "    commits = pd.read_csv(f\"data/commits/{college}_commits.csv\")\n",
    "\n",
    "    offers['col'] = college\n",
    "    commits['col'] = college\n",
    "    \n",
    "    G_offer = nx.from_pandas_edgelist(offers, source = 'col', target = 'name', edge_attr='ranking', create_using = nx.DiGraph())\n",
    "    G_commit = nx.from_pandas_edgelist(commits, source = 'name', target = 'col', edge_attr='ranking',create_using = nx.DiGraph())\n",
    "\n",
    "    G = nx.compose(G_offer, G_commit)\n",
    "\n",
    "    return G"
   ]
  },
  {
   "cell_type": "code",
   "execution_count": 10,
   "metadata": {},
   "outputs": [
    {
     "name": "stdout",
     "output_type": "stream",
     "text": [
      "alabama: 0.20717131474103587\n",
      "georgia: 0.23346303501945526\n",
      "ucla: 0.2716049382716049\n",
      "usc: 0.06976744186046512\n"
     ]
    }
   ],
   "source": [
    "for col in colleges:\n",
    "    print(f'{col}: {nx.reciprocity(getGraph(col))}')"
   ]
  }
 ],
 "metadata": {
  "kernelspec": {
   "display_name": "Python 3.8.5 ('base')",
   "language": "python",
   "name": "python3"
  },
  "language_info": {
   "codemirror_mode": {
    "name": "ipython",
    "version": 3
   },
   "file_extension": ".py",
   "mimetype": "text/x-python",
   "name": "python",
   "nbconvert_exporter": "python",
   "pygments_lexer": "ipython3",
   "version": "3.8.5"
  },
  "orig_nbformat": 4,
  "vscode": {
   "interpreter": {
    "hash": "e360b0d71471daefc40b5828b6218e60f12c2f9a62937e4a9d2acf913a3e2154"
   }
  }
 },
 "nbformat": 4,
 "nbformat_minor": 2
}
